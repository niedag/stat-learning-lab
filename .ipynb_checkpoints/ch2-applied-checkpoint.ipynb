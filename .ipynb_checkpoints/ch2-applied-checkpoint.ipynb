{
 "cells": [
  {
   "cell_type": "code",
   "execution_count": 16,
   "id": "1471915d-a1d3-4088-9a4c-8a8abae20fed",
   "metadata": {},
   "outputs": [],
   "source": [
    "import numpy as np\n",
    "import pandas as pd\n",
    "from pprint import pprint as pp\n",
    "college2 = pd.read_csv('./data-sets/College.csv', index_col=0)\n",
    "college = pd.read_csv('./data-sets/College.csv')"
   ]
  },
  {
   "cell_type": "code",
   "execution_count": 17,
   "id": "d0edbc4b-becb-4897-b138-413d902a3adc",
   "metadata": {},
   "outputs": [
    {
     "name": "stdout",
     "output_type": "stream",
     "text": [
      "['Unnamed: 0',\n",
      " 'Private',\n",
      " 'Apps',\n",
      " 'Accept',\n",
      " 'Enroll',\n",
      " 'Top10perc',\n",
      " 'Top25perc',\n",
      " 'F.Undergrad',\n",
      " 'P.Undergrad',\n",
      " 'Outstate',\n",
      " 'Room.Board',\n",
      " 'Books',\n",
      " 'Personal',\n",
      " 'PhD',\n",
      " 'Terminal',\n",
      " 'S.F.Ratio',\n",
      " 'perc.alumni',\n",
      " 'Expend',\n",
      " 'Grad.Rate']\n"
     ]
    }
   ],
   "source": [
    "factors = df.columns.tolist()\n",
    "pp(factors)"
   ]
  },
  {
   "cell_type": "code",
   "execution_count": 19,
   "id": "b60acb52-395f-4b00-9349-8f27ddda917d",
   "metadata": {},
   "outputs": [
    {
     "ename": "NameError",
     "evalue": "name 'college' is not defined",
     "output_type": "error",
     "traceback": [
      "\u001b[0;31m---------------------------------------------------------------------------\u001b[0m",
      "\u001b[0;31mNameError\u001b[0m                                 Traceback (most recent call last)",
      "Cell \u001b[0;32mIn[19], line 1\u001b[0m\n\u001b[0;32m----> 1\u001b[0m college3\u001b[38;5;241m=\u001b[39m\u001b[43mcollege\u001b[49m\u001b[38;5;241m.\u001b[39mrename({\u001b[38;5;124m'\u001b[39m\u001b[38;5;124mUnnamed: 0\u001b[39m\u001b[38;5;124m'\u001b[39m: \u001b[38;5;124m'\u001b[39m\u001b[38;5;124mCollege\u001b[39m\u001b[38;5;124m'\u001b[39m},\n\u001b[1;32m      2\u001b[0m                          axis\u001b[38;5;241m=\u001b[39m\u001b[38;5;241m1\u001b[39m)\n",
      "\u001b[0;31mNameError\u001b[0m: name 'college' is not defined"
     ]
    }
   ],
   "source": [
    "college3=college.rename({'Unnamed: 0': 'College'},\n",
    "                         axis=1)"
   ]
  },
  {
   "cell_type": "code",
   "execution_count": null,
   "id": "dc3bfcfc-2065-4ccf-a5af-d16627f8be74",
   "metadata": {},
   "outputs": [],
   "source": []
  }
 ],
 "metadata": {
  "kernelspec": {
   "display_name": "Python 3 (ipykernel)",
   "language": "python",
   "name": "python3"
  },
  "language_info": {
   "codemirror_mode": {
    "name": "ipython",
    "version": 3
   },
   "file_extension": ".py",
   "mimetype": "text/x-python",
   "name": "python",
   "nbconvert_exporter": "python",
   "pygments_lexer": "ipython3",
   "version": "3.10.12"
  }
 },
 "nbformat": 4,
 "nbformat_minor": 5
}
